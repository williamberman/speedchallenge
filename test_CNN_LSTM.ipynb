{
 "cells": [
  {
   "cell_type": "code",
   "execution_count": 1,
   "metadata": {},
   "outputs": [],
   "source": [
    "import cv2\n",
    "import pandas as pd\n"
   ]
  },
  {
   "cell_type": "code",
   "execution_count": 2,
   "metadata": {},
   "outputs": [],
   "source": [
    "## I THINK THIS IS OUTDATED.... JUST USE CELL BELOW\n",
    "\n",
    "# import cv2\n",
    "# vidcap = cv2.VideoCapture('data/train.mp4')\n",
    "# success,image = vidcap.read()\n",
    "# count = 0\n",
    "# while success:\n",
    "#     cv2.imwrite(\"data/train_imgs/frame%d.jpg\" % count, image)     # save frame as JPEG file      \n",
    "#     success,image = vidcap.read()\n",
    "#     print('Read a new frame: ', success)\n",
    "#     count += 1"
   ]
  },
  {
   "cell_type": "code",
   "execution_count": 4,
   "metadata": {},
   "outputs": [],
   "source": [
    "\n",
    "# import cv2 \n",
    "  \n",
    "# # Function to extract frames \n",
    "# def FrameCapture(path): \n",
    "      \n",
    "#     # Path to video file \n",
    "#     vidObj = cv2.VideoCapture(path) \n",
    "  \n",
    "#     # Used as counter variable \n",
    "#     count = 0\n",
    "  \n",
    "#     # checks whether frames were extracted \n",
    "#     success = 1\n",
    "  \n",
    "#     while success: \n",
    "  \n",
    "#         # vidObj object calls read \n",
    "#         # function extract frames \n",
    "#         success, image = vidObj.read() \n",
    "  \n",
    "#         # Saves the frames with frame-count \n",
    "#         cv2.imwrite(\"data/train_imgs/frame%d.jpg\" % count, image) \n",
    "  \n",
    "#         count += 1\n",
    "  \n",
    "\n",
    "#     # Calling the function \n",
    "# FrameCapture('data/train.mp4') "
   ]
  },
  {
   "cell_type": "code",
   "execution_count": 5,
   "metadata": {},
   "outputs": [
    {
     "name": "stderr",
     "output_type": "stream",
     "text": [
      "Using TensorFlow backend.\n"
     ]
    }
   ],
   "source": [
    "import numpy\n",
    "from keras.datasets import imdb\n",
    "from keras.models import Sequential\n",
    "from keras.layers import Dense\n",
    "from keras.layers import LSTM\n",
    "from keras.layers.embeddings import Embedding\n",
    "from keras.preprocessing import sequence\n",
    "# fix random seed for reproducibility\n",
    "numpy.random.seed(7)\n",
    "\n"
   ]
  },
  {
   "cell_type": "code",
   "execution_count": 6,
   "metadata": {},
   "outputs": [],
   "source": [
    "import warnings\n",
    "warnings.filterwarnings('ignore')\n",
    "\n",
    "import pandas as pd\n",
    "import numpy as np\n",
    "import sklearn\n",
    "from sklearn.model_selection import train_test_split\n",
    "import keras\n",
    "import skimage\n",
    "import tensorflow\n",
    "from keras.utils.np_utils import to_categorical\n",
    "from keras.models import Sequential\n",
    "from keras.layers import Dense, Dropout, Flatten, Conv2D, MaxPool2D, AvgPool2D, BatchNormalization, Reshape\n",
    "from keras.preprocessing.image import ImageDataGenerator\n",
    "from keras.callbacks import LearningRateScheduler\n",
    "from keras.utils.vis_utils import plot_model\n",
    "import matplotlib.pyplot as plt\n",
    "import skimage.morphology as morp\n",
    "from skimage.filters import rank\n",
    "\n",
    "%matplotlib inline\n",
    "\n",
    "assert pd.__version__ == '0.23.4'\n",
    "assert np.__version__ == '1.15.4'\n",
    "assert keras.__version__ == '2.1.3'\n",
    "assert skimage.__version__ == '0.14.1'\n",
    "assert sklearn.__version__ == '0.19.2'\n",
    "assert tensorflow.__version__ == '1.12.0'\n"
   ]
  },
  {
   "cell_type": "code",
   "execution_count": 7,
   "metadata": {},
   "outputs": [
    {
     "name": "stdout",
     "output_type": "stream",
     "text": [
      "20400\n"
     ]
    }
   ],
   "source": [
    "# Load all images\n",
    "\n",
    "import os\n",
    "import skimage.data\n",
    "def load_data(data_dir):\n",
    "    images = []\n",
    "    \n",
    "    file_names = sorted([os.path.join(data_dir, f)\n",
    "                  for f in os.listdir(data_dir) if f.endswith(\".jpg\")])\n",
    "    \n",
    "    for f in file_names:\n",
    "        images.append(skimage.data.imread(f)) #as_gray=True))\n",
    "    \n",
    "    return images\n",
    "\n",
    "images = load_data('data/train_imgs')\n",
    "print(len(images))"
   ]
  },
  {
   "cell_type": "code",
   "execution_count": null,
   "metadata": {},
   "outputs": [],
   "source": []
  },
  {
   "cell_type": "code",
   "execution_count": 8,
   "metadata": {},
   "outputs": [
    {
     "name": "stdout",
     "output_type": "stream",
     "text": [
      "image.shape[before] (480, 640, 3)\n",
      "image.shape[before] (480, 640, 3)\n",
      "image.shape[before] (480, 640, 3)\n"
     ]
    }
   ],
   "source": [
    "# Explore shapes\n",
    "for image in images[:3]:\n",
    "    print('image.shape[before]', image.shape)"
   ]
  },
  {
   "cell_type": "code",
   "execution_count": 9,
   "metadata": {},
   "outputs": [
    {
     "name": "stdout",
     "output_type": "stream",
     "text": [
      "image.shape[after] (60, 80, 3)\n",
      "image.shape[after] (60, 80, 3)\n",
      "image.shape[after] (60, 80, 3)\n"
     ]
    }
   ],
   "source": [
    "# Transform images\n",
    "\n",
    "import skimage.transform\n",
    "image_size = (60,80,3)\n",
    "images_transformed = [skimage.transform.resize(image, image_size) for image in images]\n",
    "\n",
    "# Confirm transformation shape\n",
    "for image in images_transformed[:3]:\n",
    "    print('image.shape[after]', image.shape)\n",
    "    "
   ]
  },
  {
   "cell_type": "code",
   "execution_count": 10,
   "metadata": {},
   "outputs": [],
   "source": [
    "del images"
   ]
  },
  {
   "cell_type": "code",
   "execution_count": 11,
   "metadata": {},
   "outputs": [
    {
     "data": {
      "image/png": "[encoded data removed]",
      "text/plain": [
       "<Figure size 600x400 with 1 Axes>"
      ]
     },
     "metadata": {},
     "output_type": "display_data"
    },
    {
     "data": {
      "image/png": "[encoded data removed]",
      "text/plain": [
       "<Figure size 600x400 with 1 Axes>"
      ]
     },
     "metadata": {},
     "output_type": "display_data"
    },
    {
     "data": {
      "image/png": "[encoded data removed]",
      "text/plain": [
       "<Figure size 600x400 with 1 Axes>"
      ]
     },
     "metadata": {},
     "output_type": "display_data"
    }
   ],
   "source": [
    "from PIL import Image\n",
    "\n",
    "for image in images_transformed[:3]:\n",
    "    image = (image * 255).astype(np.uint8)\n",
    "    im = Image.fromarray(image)\n",
    "    plt.figure()\n",
    "    plt.imshow(im)\n",
    "    plt.show()\n",
    "\n"
   ]
  },
  {
   "cell_type": "code",
   "execution_count": 12,
   "metadata": {},
   "outputs": [
    {
     "data": {
      "text/plain": [
       "0    28.105569\n",
       "1    28.105569\n",
       "2    28.106527\n",
       "3    28.130404\n",
       "4    28.109243\n",
       "Name: Speed, dtype: float64"
      ]
     },
     "execution_count": 12,
     "metadata": {},
     "output_type": "execute_result"
    }
   ],
   "source": [
    "# Load Labels \n",
    "\n",
    "import pandas as pd\n",
    "\n",
    "data = pd.read_csv(\"data/train.txt\", header=None, names=['Speed'])\n",
    "labels = data[\"Speed\"]\n",
    "\n",
    "labels.head()"
   ]
  },
  {
   "cell_type": "code",
   "execution_count": 13,
   "metadata": {},
   "outputs": [
    {
     "name": "stdout",
     "output_type": "stream",
     "text": [
      "len(X) 20400\n",
      "len(y) 20400\n"
     ]
    }
   ],
   "source": [
    "# Categorize labels..\n",
    "import numpy as np\n",
    "from keras.utils.np_utils import to_categorical\n",
    "from sklearn.preprocessing import LabelEncoder\n",
    "from sklearn.model_selection import train_test_split\n",
    "\n",
    "y = np.array(labels)\n",
    "X = np.array(images_transformed)\n",
    "X = X[:, :, :]  \n",
    "\n",
    "print('len(X)', len(X))\n",
    "print('len(y)', len(y))\n"
   ]
  },
  {
   "cell_type": "code",
   "execution_count": 14,
   "metadata": {},
   "outputs": [
    {
     "data": {
      "text/plain": [
       "(20400, 60, 80, 3)"
      ]
     },
     "execution_count": 14,
     "metadata": {},
     "output_type": "execute_result"
    }
   ],
   "source": [
    "X.shape"
   ]
  },
  {
   "cell_type": "code",
   "execution_count": 15,
   "metadata": {},
   "outputs": [],
   "source": [
    "# 80/20 Train-test split\n",
    "\n",
    "train_size = int(0.8 * X.shape[0])\n",
    "\n",
    "X_train = X[0:train_size,:,:]\n",
    "X_test = X[train_size:,:,:]\n",
    "y_train = y[0:train_size]\n",
    "y_test = y[train_size:]\n",
    "\n",
    "# X_train, X_test, y_train, y_test = train_test_split(X, y, test_size=0.2, random_state=42)\n"
   ]
  },
  {
   "cell_type": "code",
   "execution_count": 16,
   "metadata": {},
   "outputs": [],
   "source": [
    "# # BASELINE MODEL -- Feedforward network\n",
    "# model = Sequential()\n",
    "# model.add(Flatten(input_shape=image_size))\n",
    "# model.add(Dense(units=120,activation=\"relu\"))\n",
    "# model.add(Dense(units=120,activation=\"relu\"))\n",
    "# model.add(Dense(units=1,activation=\"softmax\"))\n",
    "# model.compile(optimizer=\"adam\",loss=\"mean_squared_error\",metrics=[\"mse\"])"
   ]
  },
  {
   "cell_type": "code",
   "execution_count": 17,
   "metadata": {},
   "outputs": [],
   "source": [
    "# %time model.fit(X_train, y_train, epochs=30, batch_size=32, verbose=0)"
   ]
  },
  {
   "cell_type": "code",
   "execution_count": 18,
   "metadata": {},
   "outputs": [],
   "source": [
    "# # Feedforward model accuracy\n",
    "# accuracy = model.evaluate(x=X_test,y=y_test,batch_size=32, verbose=0)\n",
    "# print(\"Loss:\", round(accuracy[0],4))"
   ]
  },
  {
   "cell_type": "code",
   "execution_count": 22,
   "metadata": {},
   "outputs": [],
   "source": [
    "del X"
   ]
  },
  {
   "cell_type": "code",
   "execution_count": 24,
   "metadata": {},
   "outputs": [],
   "source": [
    "import pickle \n",
    "\n",
    "# with open('X_train.pickle', 'wb') as f:\n",
    "#     pickle.dump(X_train, f)\n",
    "    \n",
    "with open('X_train.pickle', 'rb') as f:\n",
    "    X_train = pickle.load(f)"
   ]
  },
  {
   "cell_type": "code",
   "execution_count": 25,
   "metadata": {},
   "outputs": [
    {
     "data": {
      "text/plain": [
       "(16320, 60, 80, 3)"
      ]
     },
     "execution_count": 25,
     "metadata": {},
     "output_type": "execute_result"
    }
   ],
   "source": [
    "X_train.shape"
   ]
  },
  {
   "cell_type": "code",
   "execution_count": 26,
   "metadata": {},
   "outputs": [
    {
     "data": {
      "text/plain": [
       "(16300, 20, 60, 80, 3)"
      ]
     },
     "execution_count": 26,
     "metadata": {},
     "output_type": "execute_result"
    }
   ],
   "source": [
    "time_steps = 20\n",
    "\n",
    "X_train_seqs = []\n",
    "for i in range(0,X_train.shape[0]-time_steps):\n",
    "    x_new = X_train[i:i+time_steps,:,:]\n",
    "    X_train_seqs.append(x_new)\n",
    "X_train_seqs = np.array(X_train_seqs)\n",
    "X_train_seqs = np.array(X_train_seqs)\n",
    "\n",
    "del X_train\n",
    "X_train_seqs.shape"
   ]
  },
  {
   "cell_type": "code",
   "execution_count": null,
   "metadata": {},
   "outputs": [],
   "source": [
    "y_train_cut = y_train[time_steps:]\n",
    "y_train_cut.shape\n"
   ]
  },
  {
   "cell_type": "code",
   "execution_count": null,
   "metadata": {},
   "outputs": [],
   "source": [
    "from keras.layers import TimeDistributed\n",
    "\n",
    "# time_steps = 20\n",
    "\n",
    "model = Sequential()\n",
    "# define CNN model\n",
    "model.add(TimeDistributed(Conv2D(1, (2,2), activation='relu', padding='same'),\n",
    "                          input_shape=(time_steps,)+image_size))\n",
    "model.add(TimeDistributed(MaxPool2D(pool_size=(2,2))))\n",
    "model.add(TimeDistributed(Dropout(0.1)))\n",
    "model.add(TimeDistributed(Conv2D(1, (4, 4), activation='relu', padding='same')))\n",
    "model.add(TimeDistributed(MaxPool2D(pool_size=(3,3))))\n",
    "model.add(TimeDistributed(Dropout(0.1)))\n",
    "model.add(TimeDistributed(Flatten()))\n",
    "\n",
    "# define LSTM model\n",
    "model.add(LSTM(5, return_sequences=False))\n",
    "model.add(Dropout(0.1))\n",
    "model.add(Dense(units=1,activation=\"softmax\"))\n",
    "model.compile(optimizer=\"adam\",loss=\"mean_squared_error\",metrics=[\"mse\"])\n",
    "print(model.summary())\n",
    "          \n",
    "         \n"
   ]
  },
  {
   "cell_type": "code",
   "execution_count": null,
   "metadata": {},
   "outputs": [],
   "source": [
    "%time model.fit(X_train_seqs, y_train_cut, epochs=1, batch_size=16, verbose=1)"
   ]
  },
  {
   "cell_type": "code",
   "execution_count": null,
   "metadata": {},
   "outputs": [],
   "source": []
  }
 ],
 "metadata": {
  "kernelspec": {
   "display_name": "Python 3",
   "language": "python",
   "name": "python3"
  },
  "language_info": {
   "codemirror_mode": {
    "name": "ipython",
    "version": 3
   },
   "file_extension": ".py",
   "mimetype": "text/x-python",
   "name": "python",
   "nbconvert_exporter": "python",
   "pygments_lexer": "ipython3",
   "version": "3.5.2"
  }
 },
 "nbformat": 4,
 "nbformat_minor": 2
}
